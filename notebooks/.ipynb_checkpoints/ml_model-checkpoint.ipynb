{
 "cells": [
  {
   "cell_type": "code",
   "execution_count": null,
   "metadata": {},
   "outputs": [],
   "source": [
    "import pandas as pd\n",
    "import re\n",
    "import nltk\n",
    "import numpy as np\n",
    "from scipy.optimize import minimize\n",
    "from nltk.tokenize import word_tokenize\n",
    "from nltk.stem.porter import PorterStemmer # Stemming\n",
    "from nltk.corpus import stopwords\n",
    "from sklearn.model_selection import train_test_split\n",
    "from sklearn.feature_extraction.text import TfidfVectorizer, CountVectorizer\n",
    "from sklearn.linear_model import LogisticRegression, Ridge\n",
    "from sklearn.metrics import classification_report, mean_squared_error as mse, r2_score as r2\n",
    "from tl_stopwords import STOP_WORDS as tl_stopwords\n",
    "from tagalog_stemmer import stemmer as tl_stemmer\n",
    "from sklearn.neural_network import MLPClassifier\n",
    "from sklearn.neighbors import KNeighborsClassifier\n",
    "from sklearn.svm import SVC\n",
    "from sklearn.gaussian_process import GaussianProcessClassifier\n",
    "from sklearn.gaussian_process.kernels import RBF\n",
    "from sklearn.tree import DecisionTreeClassifier\n",
    "from sklearn.ensemble import RandomForestClassifier, AdaBoostClassifier\n",
    "from sklearn.naive_bayes import GaussianNB\n",
    "from sklearn.discriminant_analysis import QuadraticDiscriminantAnalysis\n",
    "from sklearn.metrics import confusion_matrix\n",
    "import seaborn as sns\n",
    "import matplotlib.pyplot as plt\n",
    "from sklearn.model_selection import GridSearchCV\n",
    "nltk.download('punkt')\n",
    "nltk.download('stopwords')"
   ]
  },
  {
   "cell_type": "markdown",
   "metadata": {},
   "source": [
    "# Preprocessing"
   ]
  },
  {
   "cell_type": "code",
   "execution_count": null,
   "metadata": {},
   "outputs": [],
   "source": [
    "fake_df = pd.read_csv(\"full.csv\")\n",
    "fake_df.head()"
   ]
  },
  {
   "cell_type": "code",
   "execution_count": null,
   "metadata": {},
   "outputs": [],
   "source": [
    "print(fake_df.isna().sum().sum())\n",
    "print(fake_df.isnull().sum().sum())\n",
    "print(fake_df.duplicated().sum())"
   ]
  },
  {
   "cell_type": "code",
   "execution_count": null,
   "metadata": {},
   "outputs": [],
   "source": [
    "fake_df.drop_duplicates(inplace=True)"
   ]
  },
  {
   "cell_type": "code",
   "execution_count": null,
   "metadata": {},
   "outputs": [],
   "source": [
    "print(fake_df.isna().sum().sum())\n",
    "print(fake_df.isnull().sum().sum())\n",
    "print(fake_df.duplicated().sum())"
   ]
  },
  {
   "cell_type": "code",
   "execution_count": null,
   "metadata": {},
   "outputs": [],
   "source": [
    "fake_df.label.value_counts()"
   ]
  },
  {
   "cell_type": "code",
   "execution_count": null,
   "metadata": {},
   "outputs": [],
   "source": [
    "fake_df.label.value_counts().plot(\n",
    "    kind='pie', autopct='%1.2f%%')"
   ]
  },
  {
   "cell_type": "code",
   "execution_count": null,
   "metadata": {},
   "outputs": [],
   "source": [
    "x_df = fake_df.article\n",
    "y_df = fake_df.label"
   ]
  },
  {
   "cell_type": "code",
   "execution_count": null,
   "metadata": {},
   "outputs": [],
   "source": [
    "#split training and testing set \n",
    "x_train, x_test, y_train, y_test = train_test_split(x_df, y_df, test_size=0.2, random_state=1)"
   ]
  },
  {
   "cell_type": "code",
   "execution_count": null,
   "metadata": {},
   "outputs": [],
   "source": [
    "y_train.value_counts()"
   ]
  },
  {
   "cell_type": "code",
   "execution_count": null,
   "metadata": {},
   "outputs": [],
   "source": [
    "y_train.value_counts().plot(kind='pie', autopct='%1.2f%%')"
   ]
  },
  {
   "cell_type": "code",
   "execution_count": null,
   "metadata": {},
   "outputs": [],
   "source": [
    "#define function to preprocess text\n",
    "def preprocess_text(text):\n",
    "    '''\n",
    "    Function for text preprocessing.\n",
    "    \n",
    "    Input Parameters:\n",
    "    text:str - string to process\n",
    "    \n",
    "    Output:\n",
    "    stemmed:str - processed string from the original text.\n",
    "    '''\n",
    "\n",
    "    cleaned = re.sub(r'\\W+', ' ', text).lower() #removes punctuations\n",
    "    tokenized = word_tokenize(cleaned) #tokenization of text\n",
    "\n",
    "    #stop words removal\n",
    "    en_stopwords = set(stopwords.words('english'))\n",
    "    stop_words = en_stopwords.union(tl_stopwords)\n",
    "    no_stops = [token for token in tokenized if not token in stop_words]\n",
    "    # no_stops = \" \".join([token for token in tokenized if not token in stop_words])\n",
    "\n",
    "    #stemming\n",
    "    stemmer = PorterStemmer()\n",
    "    stemmed = \" \".join([stemmer.stem(token) for token in no_stops])\n",
    "    # stemmer = tl_stemmer\n",
    "    # stemmed = stemmer(no_stops)\n",
    "    return stemmed"
   ]
  },
  {
   "cell_type": "code",
   "execution_count": null,
   "metadata": {},
   "outputs": [],
   "source": [
    "x_train = x_train.apply(preprocess_text)\n",
    "print(x_train.shape)\n",
    "x_train.head()"
   ]
  },
  {
   "cell_type": "code",
   "execution_count": null,
   "metadata": {},
   "outputs": [],
   "source": [
    "#convert the verified_reviews columns with Tfidvectorizer\n",
    "vectorizer = TfidfVectorizer(norm=None)\n",
    "# vectorizer = CountVectorizer()\n",
    "\n",
    "x_values_list = vectorizer.fit_transform(x_train).toarray()\n",
    "x_train = pd.DataFrame(x_values_list,columns = vectorizer.get_feature_names_out())\n",
    "\n",
    "x_train.head()"
   ]
  },
  {
   "cell_type": "markdown",
   "metadata": {},
   "source": [
    "# Model Selection"
   ]
  },
  {
   "cell_type": "code",
   "execution_count": null,
   "metadata": {},
   "outputs": [],
   "source": [
    "models = [\n",
    "    LogisticRegression(), \n",
    "    MLPClassifier(), \n",
    "    KNeighborsClassifier(), \n",
    "    SVC(),\n",
    "    GaussianProcessClassifier(), \n",
    "    QuadraticDiscriminantAnalysis(), \n",
    "    DecisionTreeClassifier(), \n",
    "    RandomForestClassifier(), \n",
    "    AdaBoostClassifier(), \n",
    "    GaussianNB()\n",
    "] "
   ]
  },
  {
   "cell_type": "code",
   "execution_count": null,
   "metadata": {},
   "outputs": [],
   "source": [
    "for model in models:\n",
    "    model.fit(x_train, y_train)\n",
    "    y_pred = model.predict(x_test)\n",
    "\n",
    "    print('\\n\\n\\n' + str(model))\n",
    "    #show the results in a confusion matrix\n",
    "    cf_matrix = confusion_matrix(y_test, y_pred)\n",
    "\n",
    "    disp_cf = sns.heatmap(cf_matrix, annot=True, cmap='Blues', fmt='d')\n",
    "\n",
    "    disp_cf.set_title('Confusion Matrix')\n",
    "    disp_cf.set_xlabel('\\nPredicted Category')\n",
    "    disp_cf.set_ylabel('Actual Category ')\n",
    "\n",
    "    print(classification_report(y_test, y_pred))\n",
    "    plt.show()"
   ]
  },
  {
   "cell_type": "markdown",
   "metadata": {},
   "source": [
    "# Hyperparameter Tuning\n",
    "\n",
    "### Takes too long to load, di ko na sinama"
   ]
  },
  {
   "cell_type": "code",
   "execution_count": null,
   "metadata": {},
   "outputs": [],
   "source": [
    "log_model = LogisticRegression()"
   ]
  },
  {
   "cell_type": "code",
   "execution_count": null,
   "metadata": {},
   "outputs": [],
   "source": [
    "param_grid = [    \n",
    "    {'penalty' : ['l1', 'l2', 'elasticnet', 'none'],\n",
    "    # 'C' : np.logspace(-4, 4, 5),\n",
    "    'solver' : ['lbfgs','newton-cg','liblinear','sag','saga'],\n",
    "    # 'max_iter' : [100, 1000,2500, 5000]\n",
    "    }\n",
    "]\n",
    "\n",
    "\n",
    "clf = GridSearchCV(log_model, param_grid = param_grid, cv = 2, verbose=True, n_jobs=-1)\n",
    "best_clf = clf.fit(x_train, y_train)"
   ]
  }
 ],
 "metadata": {
  "kernelspec": {
   "display_name": "Python 3 (ipykernel)",
   "language": "python",
   "name": "python3"
  },
  "language_info": {
   "codemirror_mode": {
    "name": "ipython",
    "version": 3
   },
   "file_extension": ".py",
   "mimetype": "text/x-python",
   "name": "python",
   "nbconvert_exporter": "python",
   "pygments_lexer": "ipython3",
   "version": "3.10.7"
  },
  "vscode": {
   "interpreter": {
    "hash": "30729e7cf0b4ddfaa03ec321364426f2eaa1145be7bd631a49917b19beea7c3d"
   }
  }
 },
 "nbformat": 4,
 "nbformat_minor": 2
}
