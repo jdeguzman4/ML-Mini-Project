{
 "cells": [
  {
   "cell_type": "code",
   "execution_count": 152,
   "metadata": {},
   "outputs": [],
   "source": [
    "import pandas as pd\n",
    "import numpy as np\n",
    "\n",
    "from sklearn.model_selection import train_test_split\n",
    "from sklearn.neural_network import MLPClassifier\n",
    "from sklearn.metrics import multilabel_confusion_matrix\n",
    "from sklearn.metrics import classification_report, accuracy_score\n",
    "from sklearn.metrics import mean_squared_error, f1_score\n",
    "\n",
    "from joblib import dump, load\n",
    "from hyperopt import hp, fmin, tpe"
   ]
  },
  {
   "cell_type": "code",
   "execution_count": 153,
   "metadata": {},
   "outputs": [
    {
     "data": {
      "text/html": [
       "<div>\n",
       "<style scoped>\n",
       "    .dataframe tbody tr th:only-of-type {\n",
       "        vertical-align: middle;\n",
       "    }\n",
       "\n",
       "    .dataframe tbody tr th {\n",
       "        vertical-align: top;\n",
       "    }\n",
       "\n",
       "    .dataframe thead th {\n",
       "        text-align: right;\n",
       "    }\n",
       "</style>\n",
       "<table border=\"1\" class=\"dataframe\">\n",
       "  <thead>\n",
       "    <tr style=\"text-align: right;\">\n",
       "      <th></th>\n",
       "      <th>fixed acidity</th>\n",
       "      <th>volatile acidity</th>\n",
       "      <th>citric acid</th>\n",
       "      <th>residual sugar</th>\n",
       "      <th>chlorides</th>\n",
       "      <th>free sulfur dioxide</th>\n",
       "      <th>total sulfur dioxide</th>\n",
       "      <th>density</th>\n",
       "      <th>pH</th>\n",
       "      <th>sulphates</th>\n",
       "      <th>alcohol</th>\n",
       "      <th>3</th>\n",
       "      <th>4</th>\n",
       "      <th>5</th>\n",
       "      <th>6</th>\n",
       "      <th>7</th>\n",
       "      <th>8</th>\n",
       "      <th>9</th>\n",
       "    </tr>\n",
       "  </thead>\n",
       "  <tbody>\n",
       "    <tr>\n",
       "      <th>0</th>\n",
       "      <td>0.173077</td>\n",
       "      <td>0.196078</td>\n",
       "      <td>0.240964</td>\n",
       "      <td>0.084356</td>\n",
       "      <td>0.074184</td>\n",
       "      <td>0.118467</td>\n",
       "      <td>0.252900</td>\n",
       "      <td>0.083478</td>\n",
       "      <td>0.445455</td>\n",
       "      <td>0.244186</td>\n",
       "      <td>0.661290</td>\n",
       "      <td>0</td>\n",
       "      <td>0</td>\n",
       "      <td>0</td>\n",
       "      <td>0</td>\n",
       "      <td>1</td>\n",
       "      <td>0</td>\n",
       "      <td>0</td>\n",
       "    </tr>\n",
       "    <tr>\n",
       "      <th>1</th>\n",
       "      <td>0.432692</td>\n",
       "      <td>0.323529</td>\n",
       "      <td>0.307229</td>\n",
       "      <td>0.021472</td>\n",
       "      <td>0.109792</td>\n",
       "      <td>0.031359</td>\n",
       "      <td>0.459397</td>\n",
       "      <td>0.113553</td>\n",
       "      <td>0.272727</td>\n",
       "      <td>0.383721</td>\n",
       "      <td>0.548387</td>\n",
       "      <td>0</td>\n",
       "      <td>0</td>\n",
       "      <td>1</td>\n",
       "      <td>0</td>\n",
       "      <td>0</td>\n",
       "      <td>0</td>\n",
       "      <td>0</td>\n",
       "    </tr>\n",
       "    <tr>\n",
       "      <th>2</th>\n",
       "      <td>0.144231</td>\n",
       "      <td>0.225490</td>\n",
       "      <td>0.228916</td>\n",
       "      <td>0.151840</td>\n",
       "      <td>0.065282</td>\n",
       "      <td>0.177700</td>\n",
       "      <td>0.303944</td>\n",
       "      <td>0.117602</td>\n",
       "      <td>0.563636</td>\n",
       "      <td>0.279070</td>\n",
       "      <td>0.596774</td>\n",
       "      <td>0</td>\n",
       "      <td>0</td>\n",
       "      <td>0</td>\n",
       "      <td>1</td>\n",
       "      <td>0</td>\n",
       "      <td>0</td>\n",
       "      <td>0</td>\n",
       "    </tr>\n",
       "    <tr>\n",
       "      <th>3</th>\n",
       "      <td>0.307692</td>\n",
       "      <td>0.274510</td>\n",
       "      <td>0.180723</td>\n",
       "      <td>0.067485</td>\n",
       "      <td>0.091988</td>\n",
       "      <td>0.132404</td>\n",
       "      <td>0.310905</td>\n",
       "      <td>0.089069</td>\n",
       "      <td>0.554545</td>\n",
       "      <td>0.232558</td>\n",
       "      <td>0.677419</td>\n",
       "      <td>0</td>\n",
       "      <td>0</td>\n",
       "      <td>0</td>\n",
       "      <td>0</td>\n",
       "      <td>1</td>\n",
       "      <td>0</td>\n",
       "      <td>0</td>\n",
       "    </tr>\n",
       "    <tr>\n",
       "      <th>4</th>\n",
       "      <td>0.259615</td>\n",
       "      <td>0.098039</td>\n",
       "      <td>0.156627</td>\n",
       "      <td>0.012270</td>\n",
       "      <td>0.094955</td>\n",
       "      <td>0.132404</td>\n",
       "      <td>0.306265</td>\n",
       "      <td>0.134760</td>\n",
       "      <td>0.563636</td>\n",
       "      <td>0.581395</td>\n",
       "      <td>0.241935</td>\n",
       "      <td>0</td>\n",
       "      <td>0</td>\n",
       "      <td>0</td>\n",
       "      <td>1</td>\n",
       "      <td>0</td>\n",
       "      <td>0</td>\n",
       "      <td>0</td>\n",
       "    </tr>\n",
       "    <tr>\n",
       "      <th>...</th>\n",
       "      <td>...</td>\n",
       "      <td>...</td>\n",
       "      <td>...</td>\n",
       "      <td>...</td>\n",
       "      <td>...</td>\n",
       "      <td>...</td>\n",
       "      <td>...</td>\n",
       "      <td>...</td>\n",
       "      <td>...</td>\n",
       "      <td>...</td>\n",
       "      <td>...</td>\n",
       "      <td>...</td>\n",
       "      <td>...</td>\n",
       "      <td>...</td>\n",
       "      <td>...</td>\n",
       "      <td>...</td>\n",
       "      <td>...</td>\n",
       "      <td>...</td>\n",
       "    </tr>\n",
       "    <tr>\n",
       "      <th>3276</th>\n",
       "      <td>0.230769</td>\n",
       "      <td>0.127451</td>\n",
       "      <td>0.313253</td>\n",
       "      <td>0.090491</td>\n",
       "      <td>0.112760</td>\n",
       "      <td>0.090592</td>\n",
       "      <td>0.264501</td>\n",
       "      <td>0.136302</td>\n",
       "      <td>0.454545</td>\n",
       "      <td>0.313953</td>\n",
       "      <td>0.306452</td>\n",
       "      <td>0</td>\n",
       "      <td>0</td>\n",
       "      <td>0</td>\n",
       "      <td>1</td>\n",
       "      <td>0</td>\n",
       "      <td>0</td>\n",
       "      <td>0</td>\n",
       "    </tr>\n",
       "    <tr>\n",
       "      <th>3277</th>\n",
       "      <td>0.307692</td>\n",
       "      <td>0.058824</td>\n",
       "      <td>0.192771</td>\n",
       "      <td>0.128834</td>\n",
       "      <td>0.089021</td>\n",
       "      <td>0.181185</td>\n",
       "      <td>0.306265</td>\n",
       "      <td>0.163678</td>\n",
       "      <td>0.454545</td>\n",
       "      <td>0.244186</td>\n",
       "      <td>0.225806</td>\n",
       "      <td>0</td>\n",
       "      <td>0</td>\n",
       "      <td>0</td>\n",
       "      <td>1</td>\n",
       "      <td>0</td>\n",
       "      <td>0</td>\n",
       "      <td>0</td>\n",
       "    </tr>\n",
       "    <tr>\n",
       "      <th>3278</th>\n",
       "      <td>0.365385</td>\n",
       "      <td>0.186275</td>\n",
       "      <td>0.313253</td>\n",
       "      <td>0.039877</td>\n",
       "      <td>0.100890</td>\n",
       "      <td>0.090592</td>\n",
       "      <td>0.331787</td>\n",
       "      <td>0.080586</td>\n",
       "      <td>0.272727</td>\n",
       "      <td>0.360465</td>\n",
       "      <td>0.548387</td>\n",
       "      <td>0</td>\n",
       "      <td>0</td>\n",
       "      <td>0</td>\n",
       "      <td>1</td>\n",
       "      <td>0</td>\n",
       "      <td>0</td>\n",
       "      <td>0</td>\n",
       "    </tr>\n",
       "    <tr>\n",
       "      <th>3279</th>\n",
       "      <td>0.240385</td>\n",
       "      <td>0.156863</td>\n",
       "      <td>0.174699</td>\n",
       "      <td>0.200920</td>\n",
       "      <td>0.077151</td>\n",
       "      <td>0.177700</td>\n",
       "      <td>0.290023</td>\n",
       "      <td>0.165028</td>\n",
       "      <td>0.409091</td>\n",
       "      <td>0.186047</td>\n",
       "      <td>0.419355</td>\n",
       "      <td>0</td>\n",
       "      <td>0</td>\n",
       "      <td>0</td>\n",
       "      <td>1</td>\n",
       "      <td>0</td>\n",
       "      <td>0</td>\n",
       "      <td>0</td>\n",
       "    </tr>\n",
       "    <tr>\n",
       "      <th>3280</th>\n",
       "      <td>0.413462</td>\n",
       "      <td>0.186275</td>\n",
       "      <td>0.210843</td>\n",
       "      <td>0.016871</td>\n",
       "      <td>0.062315</td>\n",
       "      <td>0.125436</td>\n",
       "      <td>0.218097</td>\n",
       "      <td>0.104878</td>\n",
       "      <td>0.454545</td>\n",
       "      <td>0.476744</td>\n",
       "      <td>0.387097</td>\n",
       "      <td>0</td>\n",
       "      <td>0</td>\n",
       "      <td>0</td>\n",
       "      <td>0</td>\n",
       "      <td>0</td>\n",
       "      <td>1</td>\n",
       "      <td>0</td>\n",
       "    </tr>\n",
       "  </tbody>\n",
       "</table>\n",
       "<p>3281 rows × 18 columns</p>\n",
       "</div>"
      ],
      "text/plain": [
       "      fixed acidity  volatile acidity  citric acid  residual sugar  chlorides  \\\n",
       "0          0.173077          0.196078     0.240964        0.084356   0.074184   \n",
       "1          0.432692          0.323529     0.307229        0.021472   0.109792   \n",
       "2          0.144231          0.225490     0.228916        0.151840   0.065282   \n",
       "3          0.307692          0.274510     0.180723        0.067485   0.091988   \n",
       "4          0.259615          0.098039     0.156627        0.012270   0.094955   \n",
       "...             ...               ...          ...             ...        ...   \n",
       "3276       0.230769          0.127451     0.313253        0.090491   0.112760   \n",
       "3277       0.307692          0.058824     0.192771        0.128834   0.089021   \n",
       "3278       0.365385          0.186275     0.313253        0.039877   0.100890   \n",
       "3279       0.240385          0.156863     0.174699        0.200920   0.077151   \n",
       "3280       0.413462          0.186275     0.210843        0.016871   0.062315   \n",
       "\n",
       "      free sulfur dioxide  total sulfur dioxide   density        pH  \\\n",
       "0                0.118467              0.252900  0.083478  0.445455   \n",
       "1                0.031359              0.459397  0.113553  0.272727   \n",
       "2                0.177700              0.303944  0.117602  0.563636   \n",
       "3                0.132404              0.310905  0.089069  0.554545   \n",
       "4                0.132404              0.306265  0.134760  0.563636   \n",
       "...                   ...                   ...       ...       ...   \n",
       "3276             0.090592              0.264501  0.136302  0.454545   \n",
       "3277             0.181185              0.306265  0.163678  0.454545   \n",
       "3278             0.090592              0.331787  0.080586  0.272727   \n",
       "3279             0.177700              0.290023  0.165028  0.409091   \n",
       "3280             0.125436              0.218097  0.104878  0.454545   \n",
       "\n",
       "      sulphates   alcohol  3  4  5  6  7  8  9  \n",
       "0      0.244186  0.661290  0  0  0  0  1  0  0  \n",
       "1      0.383721  0.548387  0  0  1  0  0  0  0  \n",
       "2      0.279070  0.596774  0  0  0  1  0  0  0  \n",
       "3      0.232558  0.677419  0  0  0  0  1  0  0  \n",
       "4      0.581395  0.241935  0  0  0  1  0  0  0  \n",
       "...         ...       ... .. .. .. .. .. .. ..  \n",
       "3276   0.313953  0.306452  0  0  0  1  0  0  0  \n",
       "3277   0.244186  0.225806  0  0  0  1  0  0  0  \n",
       "3278   0.360465  0.548387  0  0  0  1  0  0  0  \n",
       "3279   0.186047  0.419355  0  0  0  1  0  0  0  \n",
       "3280   0.476744  0.387097  0  0  0  0  0  1  0  \n",
       "\n",
       "[3281 rows x 18 columns]"
      ]
     },
     "execution_count": 153,
     "metadata": {},
     "output_type": "execute_result"
    }
   ],
   "source": [
    "df_x = pd.read_csv('../datasets/winequality_white_x_train.csv')\n",
    "df_y = pd.read_csv('../datasets/winequality_white_y_train.csv')\n",
    "\n",
    "df = pd.concat([df_x, df_y], axis=1)\n",
    "df"
   ]
  },
  {
   "cell_type": "code",
   "execution_count": 174,
   "metadata": {},
   "outputs": [],
   "source": [
    "x_train, x_test, y_train, y_test = train_test_split(df_x, df_y, test_size=0.2, random_state=0)"
   ]
  },
  {
   "cell_type": "code",
   "execution_count": 375,
   "metadata": {},
   "outputs": [],
   "source": [
    "x = x_train.values\n",
    "y = y_train.values\n",
    "\n",
    "def f(params):\n",
    "    model = MLPClassifier(\n",
    "        random_state=1,\n",
    "        max_iter=2000,\n",
    "        alpha=params['alpha'],\n",
    "        learning_rate_init=params['learning_rate'],\n",
    "        # hidden_layer_sizes=(150, 100, 50),\n",
    "        hidden_layer_sizes=(20, 30, 30, 20),\n",
    "        activation='relu',\n",
    "        learning_rate='adaptive'\n",
    "    )\n",
    "    \n",
    "    model.fit(x, y)\n",
    "    preds = model.predict(x_test.values)\n",
    "    score = mean_squared_error(preds, y_test.values)\n",
    "    \n",
    "    return score"
   ]
  },
  {
   "cell_type": "code",
   "execution_count": 376,
   "metadata": {},
   "outputs": [
    {
     "name": "stdout",
     "output_type": "stream",
     "text": [
      "100%|██████████| 100/100 [06:30<00:00,  3.90s/trial, best loss: 0.11611219830397913]\n"
     ]
    },
    {
     "data": {
      "text/plain": [
       "{'alpha': 0.005132623589898519, 'learning_rate': 0.0006623398732465599}"
      ]
     },
     "execution_count": 376,
     "metadata": {},
     "output_type": "execute_result"
    }
   ],
   "source": [
    "params = {\n",
    "    'alpha': hp.uniform('alpha', 0.001, 0.01),\n",
    "    'learning_rate': hp.uniform('learning_rate', 0.0001, 0.001)\n",
    "}\n",
    "\n",
    "best_params = fmin(fn=f, space=params, max_evals=100, algo=tpe.suggest)\n",
    "\n",
    "best_params"
   ]
  },
  {
   "cell_type": "code",
   "execution_count": 377,
   "metadata": {},
   "outputs": [
    {
     "data": {
      "text/html": [
       "<style>#sk-container-id-40 {color: black;background-color: white;}#sk-container-id-40 pre{padding: 0;}#sk-container-id-40 div.sk-toggleable {background-color: white;}#sk-container-id-40 label.sk-toggleable__label {cursor: pointer;display: block;width: 100%;margin-bottom: 0;padding: 0.3em;box-sizing: border-box;text-align: center;}#sk-container-id-40 label.sk-toggleable__label-arrow:before {content: \"▸\";float: left;margin-right: 0.25em;color: #696969;}#sk-container-id-40 label.sk-toggleable__label-arrow:hover:before {color: black;}#sk-container-id-40 div.sk-estimator:hover label.sk-toggleable__label-arrow:before {color: black;}#sk-container-id-40 div.sk-toggleable__content {max-height: 0;max-width: 0;overflow: hidden;text-align: left;background-color: #f0f8ff;}#sk-container-id-40 div.sk-toggleable__content pre {margin: 0.2em;color: black;border-radius: 0.25em;background-color: #f0f8ff;}#sk-container-id-40 input.sk-toggleable__control:checked~div.sk-toggleable__content {max-height: 200px;max-width: 100%;overflow: auto;}#sk-container-id-40 input.sk-toggleable__control:checked~label.sk-toggleable__label-arrow:before {content: \"▾\";}#sk-container-id-40 div.sk-estimator input.sk-toggleable__control:checked~label.sk-toggleable__label {background-color: #d4ebff;}#sk-container-id-40 div.sk-label input.sk-toggleable__control:checked~label.sk-toggleable__label {background-color: #d4ebff;}#sk-container-id-40 input.sk-hidden--visually {border: 0;clip: rect(1px 1px 1px 1px);clip: rect(1px, 1px, 1px, 1px);height: 1px;margin: -1px;overflow: hidden;padding: 0;position: absolute;width: 1px;}#sk-container-id-40 div.sk-estimator {font-family: monospace;background-color: #f0f8ff;border: 1px dotted black;border-radius: 0.25em;box-sizing: border-box;margin-bottom: 0.5em;}#sk-container-id-40 div.sk-estimator:hover {background-color: #d4ebff;}#sk-container-id-40 div.sk-parallel-item::after {content: \"\";width: 100%;border-bottom: 1px solid gray;flex-grow: 1;}#sk-container-id-40 div.sk-label:hover label.sk-toggleable__label {background-color: #d4ebff;}#sk-container-id-40 div.sk-serial::before {content: \"\";position: absolute;border-left: 1px solid gray;box-sizing: border-box;top: 0;bottom: 0;left: 50%;z-index: 0;}#sk-container-id-40 div.sk-serial {display: flex;flex-direction: column;align-items: center;background-color: white;padding-right: 0.2em;padding-left: 0.2em;position: relative;}#sk-container-id-40 div.sk-item {position: relative;z-index: 1;}#sk-container-id-40 div.sk-parallel {display: flex;align-items: stretch;justify-content: center;background-color: white;position: relative;}#sk-container-id-40 div.sk-item::before, #sk-container-id-40 div.sk-parallel-item::before {content: \"\";position: absolute;border-left: 1px solid gray;box-sizing: border-box;top: 0;bottom: 0;left: 50%;z-index: -1;}#sk-container-id-40 div.sk-parallel-item {display: flex;flex-direction: column;z-index: 1;position: relative;background-color: white;}#sk-container-id-40 div.sk-parallel-item:first-child::after {align-self: flex-end;width: 50%;}#sk-container-id-40 div.sk-parallel-item:last-child::after {align-self: flex-start;width: 50%;}#sk-container-id-40 div.sk-parallel-item:only-child::after {width: 0;}#sk-container-id-40 div.sk-dashed-wrapped {border: 1px dashed gray;margin: 0 0.4em 0.5em 0.4em;box-sizing: border-box;padding-bottom: 0.4em;background-color: white;}#sk-container-id-40 div.sk-label label {font-family: monospace;font-weight: bold;display: inline-block;line-height: 1.2em;}#sk-container-id-40 div.sk-label-container {text-align: center;}#sk-container-id-40 div.sk-container {/* jupyter's `normalize.less` sets `[hidden] { display: none; }` but bootstrap.min.css set `[hidden] { display: none !important; }` so we also need the `!important` here to be able to override the default hidden behavior on the sphinx rendered scikit-learn.org. See: https://github.com/scikit-learn/scikit-learn/issues/21755 */display: inline-block !important;position: relative;}#sk-container-id-40 div.sk-text-repr-fallback {display: none;}</style><div id=\"sk-container-id-40\" class=\"sk-top-container\"><div class=\"sk-text-repr-fallback\"><pre>MLPClassifier(alpha=0.005132623589898519, hidden_layer_sizes=(20, 30, 30, 20),\n",
       "              learning_rate=&#x27;adaptive&#x27;,\n",
       "              learning_rate_init=0.0006623398732465599, max_iter=2000,\n",
       "              random_state=1)</pre><b>In a Jupyter environment, please rerun this cell to show the HTML representation or trust the notebook. <br />On GitHub, the HTML representation is unable to render, please try loading this page with nbviewer.org.</b></div><div class=\"sk-container\" hidden><div class=\"sk-item\"><div class=\"sk-estimator sk-toggleable\"><input class=\"sk-toggleable__control sk-hidden--visually\" id=\"sk-estimator-id-40\" type=\"checkbox\" checked><label for=\"sk-estimator-id-40\" class=\"sk-toggleable__label sk-toggleable__label-arrow\">MLPClassifier</label><div class=\"sk-toggleable__content\"><pre>MLPClassifier(alpha=0.005132623589898519, hidden_layer_sizes=(20, 30, 30, 20),\n",
       "              learning_rate=&#x27;adaptive&#x27;,\n",
       "              learning_rate_init=0.0006623398732465599, max_iter=2000,\n",
       "              random_state=1)</pre></div></div></div></div></div>"
      ],
      "text/plain": [
       "MLPClassifier(alpha=0.005132623589898519, hidden_layer_sizes=(20, 30, 30, 20),\n",
       "              learning_rate='adaptive',\n",
       "              learning_rate_init=0.0006623398732465599, max_iter=2000,\n",
       "              random_state=1)"
      ]
     },
     "execution_count": 377,
     "metadata": {},
     "output_type": "execute_result"
    }
   ],
   "source": [
    "clf = MLPClassifier(random_state=1,\n",
    "        max_iter=2000,\n",
    "        alpha=best_params['alpha'],\n",
    "        learning_rate_init=best_params['learning_rate'],\n",
    "        # hidden_layer_sizes=(150, 100, 50),\n",
    "        hidden_layer_sizes=(20, 30, 30, 20),\n",
    "        activation='relu',\n",
    "        learning_rate='adaptive'\n",
    "        )\n",
    "clf.fit(x,y)"
   ]
  },
  {
   "cell_type": "code",
   "execution_count": 483,
   "metadata": {},
   "outputs": [
    {
     "data": {
      "text/html": [
       "<style>#sk-container-id-57 {color: black;background-color: white;}#sk-container-id-57 pre{padding: 0;}#sk-container-id-57 div.sk-toggleable {background-color: white;}#sk-container-id-57 label.sk-toggleable__label {cursor: pointer;display: block;width: 100%;margin-bottom: 0;padding: 0.3em;box-sizing: border-box;text-align: center;}#sk-container-id-57 label.sk-toggleable__label-arrow:before {content: \"▸\";float: left;margin-right: 0.25em;color: #696969;}#sk-container-id-57 label.sk-toggleable__label-arrow:hover:before {color: black;}#sk-container-id-57 div.sk-estimator:hover label.sk-toggleable__label-arrow:before {color: black;}#sk-container-id-57 div.sk-toggleable__content {max-height: 0;max-width: 0;overflow: hidden;text-align: left;background-color: #f0f8ff;}#sk-container-id-57 div.sk-toggleable__content pre {margin: 0.2em;color: black;border-radius: 0.25em;background-color: #f0f8ff;}#sk-container-id-57 input.sk-toggleable__control:checked~div.sk-toggleable__content {max-height: 200px;max-width: 100%;overflow: auto;}#sk-container-id-57 input.sk-toggleable__control:checked~label.sk-toggleable__label-arrow:before {content: \"▾\";}#sk-container-id-57 div.sk-estimator input.sk-toggleable__control:checked~label.sk-toggleable__label {background-color: #d4ebff;}#sk-container-id-57 div.sk-label input.sk-toggleable__control:checked~label.sk-toggleable__label {background-color: #d4ebff;}#sk-container-id-57 input.sk-hidden--visually {border: 0;clip: rect(1px 1px 1px 1px);clip: rect(1px, 1px, 1px, 1px);height: 1px;margin: -1px;overflow: hidden;padding: 0;position: absolute;width: 1px;}#sk-container-id-57 div.sk-estimator {font-family: monospace;background-color: #f0f8ff;border: 1px dotted black;border-radius: 0.25em;box-sizing: border-box;margin-bottom: 0.5em;}#sk-container-id-57 div.sk-estimator:hover {background-color: #d4ebff;}#sk-container-id-57 div.sk-parallel-item::after {content: \"\";width: 100%;border-bottom: 1px solid gray;flex-grow: 1;}#sk-container-id-57 div.sk-label:hover label.sk-toggleable__label {background-color: #d4ebff;}#sk-container-id-57 div.sk-serial::before {content: \"\";position: absolute;border-left: 1px solid gray;box-sizing: border-box;top: 0;bottom: 0;left: 50%;z-index: 0;}#sk-container-id-57 div.sk-serial {display: flex;flex-direction: column;align-items: center;background-color: white;padding-right: 0.2em;padding-left: 0.2em;position: relative;}#sk-container-id-57 div.sk-item {position: relative;z-index: 1;}#sk-container-id-57 div.sk-parallel {display: flex;align-items: stretch;justify-content: center;background-color: white;position: relative;}#sk-container-id-57 div.sk-item::before, #sk-container-id-57 div.sk-parallel-item::before {content: \"\";position: absolute;border-left: 1px solid gray;box-sizing: border-box;top: 0;bottom: 0;left: 50%;z-index: -1;}#sk-container-id-57 div.sk-parallel-item {display: flex;flex-direction: column;z-index: 1;position: relative;background-color: white;}#sk-container-id-57 div.sk-parallel-item:first-child::after {align-self: flex-end;width: 50%;}#sk-container-id-57 div.sk-parallel-item:last-child::after {align-self: flex-start;width: 50%;}#sk-container-id-57 div.sk-parallel-item:only-child::after {width: 0;}#sk-container-id-57 div.sk-dashed-wrapped {border: 1px dashed gray;margin: 0 0.4em 0.5em 0.4em;box-sizing: border-box;padding-bottom: 0.4em;background-color: white;}#sk-container-id-57 div.sk-label label {font-family: monospace;font-weight: bold;display: inline-block;line-height: 1.2em;}#sk-container-id-57 div.sk-label-container {text-align: center;}#sk-container-id-57 div.sk-container {/* jupyter's `normalize.less` sets `[hidden] { display: none; }` but bootstrap.min.css set `[hidden] { display: none !important; }` so we also need the `!important` here to be able to override the default hidden behavior on the sphinx rendered scikit-learn.org. See: https://github.com/scikit-learn/scikit-learn/issues/21755 */display: inline-block !important;position: relative;}#sk-container-id-57 div.sk-text-repr-fallback {display: none;}</style><div id=\"sk-container-id-57\" class=\"sk-top-container\"><div class=\"sk-text-repr-fallback\"><pre>DecisionTreeClassifier()</pre><b>In a Jupyter environment, please rerun this cell to show the HTML representation or trust the notebook. <br />On GitHub, the HTML representation is unable to render, please try loading this page with nbviewer.org.</b></div><div class=\"sk-container\" hidden><div class=\"sk-item\"><div class=\"sk-estimator sk-toggleable\"><input class=\"sk-toggleable__control sk-hidden--visually\" id=\"sk-estimator-id-57\" type=\"checkbox\" checked><label for=\"sk-estimator-id-57\" class=\"sk-toggleable__label sk-toggleable__label-arrow\">DecisionTreeClassifier</label><div class=\"sk-toggleable__content\"><pre>DecisionTreeClassifier()</pre></div></div></div></div></div>"
      ],
      "text/plain": [
       "DecisionTreeClassifier()"
      ]
     },
     "execution_count": 483,
     "metadata": {},
     "output_type": "execute_result"
    }
   ],
   "source": [
    "from sklearn.ensemble import RandomForestClassifier\n",
    "from sklearn.tree import DecisionTreeClassifier\n",
    "\n",
    "clf = DecisionTreeClassifier()\n",
    "# clf = RandomForestClassifier(n_estimators=1000, n_jobs=200, random_state=1)\n",
    "clf.fit(x, y)"
   ]
  },
  {
   "cell_type": "code",
   "execution_count": 484,
   "metadata": {},
   "outputs": [],
   "source": [
    "preds = clf.predict(x_test.values)"
   ]
  },
  {
   "cell_type": "code",
   "execution_count": 485,
   "metadata": {},
   "outputs": [
    {
     "data": {
      "text/plain": [
       "0.5722983257229832"
      ]
     },
     "execution_count": 485,
     "metadata": {},
     "output_type": "execute_result"
    }
   ],
   "source": [
    "accuracy_score(preds, y_test.values)"
   ]
  },
  {
   "cell_type": "code",
   "execution_count": 486,
   "metadata": {},
   "outputs": [
    {
     "data": {
      "text/plain": [
       "0.33052552036852356"
      ]
     },
     "execution_count": 486,
     "metadata": {},
     "output_type": "execute_result"
    }
   ],
   "source": [
    "f1 = f1_score(preds, y_test.values, average=None)\n",
    "np.mean(f1)"
   ]
  },
  {
   "cell_type": "code",
   "execution_count": 487,
   "metadata": {},
   "outputs": [
    {
     "data": {
      "text/plain": [
       "array([[[655,   2],\n",
       "        [  0,   0]],\n",
       "\n",
       "       [[618,  18],\n",
       "        [ 14,   7]],\n",
       "\n",
       "       [[400,  95],\n",
       "        [ 59, 103]],\n",
       "\n",
       "       [[223, 106],\n",
       "        [130, 198]],\n",
       "\n",
       "       [[491,  41],\n",
       "        [ 63,  62]],\n",
       "\n",
       "       [[618,  18],\n",
       "        [ 15,   6]],\n",
       "\n",
       "       [[656,   1],\n",
       "        [  0,   0]]], dtype=int64)"
      ]
     },
     "execution_count": 487,
     "metadata": {},
     "output_type": "execute_result"
    }
   ],
   "source": [
    "matrix = multilabel_confusion_matrix(preds, y_test.values)\n",
    "matrix"
   ]
  },
  {
   "cell_type": "code",
   "execution_count": 488,
   "metadata": {},
   "outputs": [
    {
     "name": "stdout",
     "output_type": "stream",
     "text": [
      "              precision    recall  f1-score   support\n",
      "\n",
      "           0       0.00      0.00      0.00         0\n",
      "           1       0.28      0.33      0.30        21\n",
      "           2       0.52      0.64      0.57       162\n",
      "           3       0.65      0.60      0.63       328\n",
      "           4       0.60      0.50      0.54       125\n",
      "           5       0.25      0.29      0.27        21\n",
      "           6       0.00      0.00      0.00         0\n",
      "\n",
      "   micro avg       0.57      0.57      0.57       657\n",
      "   macro avg       0.33      0.34      0.33       657\n",
      "weighted avg       0.58      0.57      0.58       657\n",
      " samples avg       0.57      0.57      0.57       657\n",
      "\n"
     ]
    },
    {
     "name": "stderr",
     "output_type": "stream",
     "text": [
      "c:\\Users\\Rongavilla\\Documents\\TrainingMachineLearning\\Python for Data Scientist\\ML-Mini-Project\\env\\lib\\site-packages\\sklearn\\metrics\\_classification.py:1344: UndefinedMetricWarning: Recall and F-score are ill-defined and being set to 0.0 in labels with no true samples. Use `zero_division` parameter to control this behavior.\n",
      "  _warn_prf(average, modifier, msg_start, len(result))\n"
     ]
    }
   ],
   "source": [
    "print(classification_report(preds, y_test.values))"
   ]
  },
  {
   "cell_type": "code",
   "execution_count": 489,
   "metadata": {},
   "outputs": [],
   "source": [
    "# acc - 0.58143\n",
    "# f1 - 0.32944\n",
    "\n",
    "# dump(clf, '../models/clf_white_wine.joblib')"
   ]
  }
 ],
 "metadata": {
  "kernelspec": {
   "display_name": "env",
   "language": "python",
   "name": "python3"
  },
  "language_info": {
   "codemirror_mode": {
    "name": "ipython",
    "version": 3
   },
   "file_extension": ".py",
   "mimetype": "text/x-python",
   "name": "python",
   "nbconvert_exporter": "python",
   "pygments_lexer": "ipython3",
   "version": "3.10.8"
  },
  "orig_nbformat": 4,
  "vscode": {
   "interpreter": {
    "hash": "0a1d249c89f186a204916ebd45a493857e33cf38b2978b28bda4d398ab83d04d"
   }
  }
 },
 "nbformat": 4,
 "nbformat_minor": 2
}
