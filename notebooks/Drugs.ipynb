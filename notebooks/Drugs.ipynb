{
 "cells": [
  {
   "cell_type": "code",
   "execution_count": 1,
   "metadata": {},
   "outputs": [],
   "source": [
    "import pandas as pd\n",
    "from sklearn.model_selection import train_test_split\n",
    "from sklearn.linear_model import LogisticRegression\n",
    "from sklearn.metrics import f1_score, classification_report\n",
    "from sklearn.neural_network import MLPClassifier\n",
    "from sklearn.neighbors import KNeighborsClassifier\n",
    "from sklearn.svm import SVC\n",
    "from sklearn.gaussian_process import GaussianProcessClassifier\n",
    "from sklearn.tree import DecisionTreeClassifier\n",
    "from sklearn.ensemble import RandomForestClassifier, AdaBoostClassifier\n",
    "from sklearn.naive_bayes import GaussianNB\n",
    "import seaborn as sns\n",
    "from imblearn.over_sampling import SMOTE\n",
    "from joblib import dump\n",
    "import random\n",
    "import warnings\n",
    "warnings.filterwarnings('ignore')"
   ]
  },
  {
   "attachments": {},
   "cell_type": "markdown",
   "metadata": {},
   "source": [
    "## Reading and Pre-Processing of Data "
   ]
  },
  {
   "cell_type": "code",
   "execution_count": 2,
   "metadata": {},
   "outputs": [],
   "source": [
    "input_x_train_file = \"../datasets/drugs_x_train.csv\"\n",
    "input_y_train_file = \"../datasets/drugs_y_train.csv\"\n",
    "\n",
    "df_x = pd.read_csv(input_x_train_file)\n",
    "df_y = pd.read_csv(input_y_train_file)"
   ]
  },
  {
   "cell_type": "code",
   "execution_count": 3,
   "metadata": {},
   "outputs": [],
   "source": [
    "y_labels = df_y.idxmax(1)"
   ]
  },
  {
   "cell_type": "code",
   "execution_count": 4,
   "metadata": {},
   "outputs": [
    {
     "data": {
      "text/html": [
       "<div>\n",
       "<style scoped>\n",
       "    .dataframe tbody tr th:only-of-type {\n",
       "        vertical-align: middle;\n",
       "    }\n",
       "\n",
       "    .dataframe tbody tr th {\n",
       "        vertical-align: top;\n",
       "    }\n",
       "\n",
       "    .dataframe thead th {\n",
       "        text-align: right;\n",
       "    }\n",
       "</style>\n",
       "<table border=\"1\" class=\"dataframe\">\n",
       "  <thead>\n",
       "    <tr style=\"text-align: right;\">\n",
       "      <th></th>\n",
       "      <th>Age</th>\n",
       "      <th>Na_to_K</th>\n",
       "      <th>Sex_F</th>\n",
       "      <th>Sex_M</th>\n",
       "      <th>BP_HIGH</th>\n",
       "      <th>BP_LOW</th>\n",
       "      <th>BP_NORMAL</th>\n",
       "      <th>Cholesterol_HIGH</th>\n",
       "      <th>Cholesterol_NORMAL</th>\n",
       "      <th>Drug Classification</th>\n",
       "    </tr>\n",
       "  </thead>\n",
       "  <tbody>\n",
       "    <tr>\n",
       "      <th>0</th>\n",
       "      <td>0.593220</td>\n",
       "      <td>0.297736</td>\n",
       "      <td>0</td>\n",
       "      <td>1</td>\n",
       "      <td>0</td>\n",
       "      <td>0</td>\n",
       "      <td>1</td>\n",
       "      <td>0</td>\n",
       "      <td>1</td>\n",
       "      <td>Drug_DrugY</td>\n",
       "    </tr>\n",
       "    <tr>\n",
       "      <th>1</th>\n",
       "      <td>0.830508</td>\n",
       "      <td>0.458534</td>\n",
       "      <td>0</td>\n",
       "      <td>1</td>\n",
       "      <td>1</td>\n",
       "      <td>0</td>\n",
       "      <td>0</td>\n",
       "      <td>0</td>\n",
       "      <td>1</td>\n",
       "      <td>Drug_DrugY</td>\n",
       "    </tr>\n",
       "    <tr>\n",
       "      <th>2</th>\n",
       "      <td>0.796610</td>\n",
       "      <td>0.322878</td>\n",
       "      <td>0</td>\n",
       "      <td>1</td>\n",
       "      <td>0</td>\n",
       "      <td>0</td>\n",
       "      <td>1</td>\n",
       "      <td>1</td>\n",
       "      <td>0</td>\n",
       "      <td>Drug_DrugY</td>\n",
       "    </tr>\n",
       "    <tr>\n",
       "      <th>3</th>\n",
       "      <td>0.677966</td>\n",
       "      <td>0.147226</td>\n",
       "      <td>1</td>\n",
       "      <td>0</td>\n",
       "      <td>1</td>\n",
       "      <td>0</td>\n",
       "      <td>0</td>\n",
       "      <td>1</td>\n",
       "      <td>0</td>\n",
       "      <td>Drug_drugB</td>\n",
       "    </tr>\n",
       "    <tr>\n",
       "      <th>4</th>\n",
       "      <td>0.881356</td>\n",
       "      <td>0.144756</td>\n",
       "      <td>0</td>\n",
       "      <td>1</td>\n",
       "      <td>0</td>\n",
       "      <td>0</td>\n",
       "      <td>1</td>\n",
       "      <td>0</td>\n",
       "      <td>1</td>\n",
       "      <td>Drug_DrugY</td>\n",
       "    </tr>\n",
       "    <tr>\n",
       "      <th>...</th>\n",
       "      <td>...</td>\n",
       "      <td>...</td>\n",
       "      <td>...</td>\n",
       "      <td>...</td>\n",
       "      <td>...</td>\n",
       "      <td>...</td>\n",
       "      <td>...</td>\n",
       "      <td>...</td>\n",
       "      <td>...</td>\n",
       "      <td>...</td>\n",
       "    </tr>\n",
       "    <tr>\n",
       "      <th>129</th>\n",
       "      <td>0.118644</td>\n",
       "      <td>0.177747</td>\n",
       "      <td>0</td>\n",
       "      <td>1</td>\n",
       "      <td>0</td>\n",
       "      <td>0</td>\n",
       "      <td>1</td>\n",
       "      <td>1</td>\n",
       "      <td>0</td>\n",
       "      <td>Drug_DrugY</td>\n",
       "    </tr>\n",
       "    <tr>\n",
       "      <th>130</th>\n",
       "      <td>0.593220</td>\n",
       "      <td>0.201201</td>\n",
       "      <td>1</td>\n",
       "      <td>0</td>\n",
       "      <td>0</td>\n",
       "      <td>0</td>\n",
       "      <td>1</td>\n",
       "      <td>1</td>\n",
       "      <td>0</td>\n",
       "      <td>Drug_DrugY</td>\n",
       "    </tr>\n",
       "    <tr>\n",
       "      <th>131</th>\n",
       "      <td>0.237288</td>\n",
       "      <td>0.724905</td>\n",
       "      <td>1</td>\n",
       "      <td>0</td>\n",
       "      <td>1</td>\n",
       "      <td>0</td>\n",
       "      <td>0</td>\n",
       "      <td>1</td>\n",
       "      <td>0</td>\n",
       "      <td>Drug_DrugY</td>\n",
       "    </tr>\n",
       "    <tr>\n",
       "      <th>132</th>\n",
       "      <td>0.881356</td>\n",
       "      <td>0.300894</td>\n",
       "      <td>1</td>\n",
       "      <td>0</td>\n",
       "      <td>0</td>\n",
       "      <td>0</td>\n",
       "      <td>1</td>\n",
       "      <td>1</td>\n",
       "      <td>0</td>\n",
       "      <td>Drug_DrugY</td>\n",
       "    </tr>\n",
       "    <tr>\n",
       "      <th>133</th>\n",
       "      <td>0.220339</td>\n",
       "      <td>0.214460</td>\n",
       "      <td>1</td>\n",
       "      <td>0</td>\n",
       "      <td>0</td>\n",
       "      <td>1</td>\n",
       "      <td>0</td>\n",
       "      <td>1</td>\n",
       "      <td>0</td>\n",
       "      <td>Drug_drugC</td>\n",
       "    </tr>\n",
       "  </tbody>\n",
       "</table>\n",
       "<p>134 rows × 10 columns</p>\n",
       "</div>"
      ],
      "text/plain": [
       "          Age   Na_to_K  Sex_F  Sex_M  BP_HIGH  BP_LOW  BP_NORMAL  \\\n",
       "0    0.593220  0.297736      0      1        0       0          1   \n",
       "1    0.830508  0.458534      0      1        1       0          0   \n",
       "2    0.796610  0.322878      0      1        0       0          1   \n",
       "3    0.677966  0.147226      1      0        1       0          0   \n",
       "4    0.881356  0.144756      0      1        0       0          1   \n",
       "..        ...       ...    ...    ...      ...     ...        ...   \n",
       "129  0.118644  0.177747      0      1        0       0          1   \n",
       "130  0.593220  0.201201      1      0        0       0          1   \n",
       "131  0.237288  0.724905      1      0        1       0          0   \n",
       "132  0.881356  0.300894      1      0        0       0          1   \n",
       "133  0.220339  0.214460      1      0        0       1          0   \n",
       "\n",
       "     Cholesterol_HIGH  Cholesterol_NORMAL Drug Classification  \n",
       "0                   0                   1          Drug_DrugY  \n",
       "1                   0                   1          Drug_DrugY  \n",
       "2                   1                   0          Drug_DrugY  \n",
       "3                   1                   0          Drug_drugB  \n",
       "4                   0                   1          Drug_DrugY  \n",
       "..                ...                 ...                 ...  \n",
       "129                 1                   0          Drug_DrugY  \n",
       "130                 1                   0          Drug_DrugY  \n",
       "131                 1                   0          Drug_DrugY  \n",
       "132                 1                   0          Drug_DrugY  \n",
       "133                 1                   0          Drug_drugC  \n",
       "\n",
       "[134 rows x 10 columns]"
      ]
     },
     "execution_count": 4,
     "metadata": {},
     "output_type": "execute_result"
    }
   ],
   "source": [
    "df_concat = pd.concat([df_x, y_labels], axis=1)\n",
    "df_concat.rename(columns={df_concat.columns[-1]:'Drug Classification'}, inplace=True) \n",
    "df_concat"
   ]
  },
  {
   "attachments": {},
   "cell_type": "markdown",
   "metadata": {},
   "source": [
    "## Feature Selection\n",
    "\n",
    "However, since no features were highly correlated to each other, no feature was removed."
   ]
  },
  {
   "cell_type": "code",
   "execution_count": 5,
   "metadata": {},
   "outputs": [
    {
     "data": {
      "text/plain": [
       "<AxesSubplot: >"
      ]
     },
     "execution_count": 5,
     "metadata": {},
     "output_type": "execute_result"
    },
    {
     "data": {
      "image/png": "[encoded data removed]",
      "text/plain": [
       "<Figure size 640x480 with 2 Axes>"
      ]
     },
     "metadata": {},
     "output_type": "display_data"
    }
   ],
   "source": [
    "sns.heatmap(df_concat.corr())"
   ]
  },
  {
   "attachments": {},
   "cell_type": "markdown",
   "metadata": {},
   "source": [
    "## Train-Test Split"
   ]
  },
  {
   "cell_type": "code",
   "execution_count": 6,
   "metadata": {},
   "outputs": [],
   "source": [
    "x_train, x_test, y_train, y_test = train_test_split(df_x, y_labels, test_size=0.20, random_state=1)"
   ]
  },
  {
   "attachments": {},
   "cell_type": "markdown",
   "metadata": {},
   "source": [
    "## SMOTE\n",
    "\n",
    "Applying SMOTE (Synthetic Minority Over-sampling Technique) to prevent oversampled data"
   ]
  },
  {
   "cell_type": "code",
   "execution_count": 7,
   "metadata": {},
   "outputs": [],
   "source": [
    "x_train, y_train = SMOTE().fit_resample(x_train, y_train)"
   ]
  },
  {
   "attachments": {},
   "cell_type": "markdown",
   "metadata": {},
   "source": [
    "## Model Selection"
   ]
  },
  {
   "cell_type": "code",
   "execution_count": 8,
   "metadata": {},
   "outputs": [],
   "source": [
    "models = [\n",
    "    LogisticRegression(), \n",
    "    MLPClassifier(), \n",
    "    KNeighborsClassifier(), \n",
    "    SVC(),\n",
    "    GaussianProcessClassifier(), \n",
    "    DecisionTreeClassifier(), \n",
    "    RandomForestClassifier(), \n",
    "    AdaBoostClassifier(), \n",
    "    GaussianNB()\n",
    "] "
   ]
  },
  {
   "cell_type": "code",
   "execution_count": 9,
   "metadata": {},
   "outputs": [
    {
     "name": "stdout",
     "output_type": "stream",
     "text": [
      "\n",
      "\n",
      "LogisticRegression()\n",
      "0.7176444245409763\n",
      "\n",
      "\n",
      "MLPClassifier()\n",
      "0.7176444245409763\n",
      "\n",
      "\n",
      "KNeighborsClassifier()\n",
      "0.5217569786535303\n",
      "\n",
      "\n",
      "SVC()\n",
      "0.6267857142857143\n",
      "\n",
      "\n",
      "GaussianProcessClassifier()\n",
      "0.5217569786535303\n",
      "\n",
      "\n",
      "DecisionTreeClassifier()\n",
      "0.9365079365079365\n",
      "\n",
      "\n",
      "RandomForestClassifier()\n",
      "0.9365079365079365\n",
      "\n",
      "\n",
      "AdaBoostClassifier()\n",
      "0.45367132867132864\n",
      "\n",
      "\n",
      "GaussianNB()\n",
      "0.7392857142857142\n"
     ]
    }
   ],
   "source": [
    "for model in models:\n",
    "    model.fit(x_train, y_train)\n",
    "    y_pred = model.predict(x_test)\n",
    "\n",
    "    print('\\n\\n' + str(model))\n",
    "    print(f1_score(y_test, y_pred, average='macro'))"
   ]
  },
  {
   "attachments": {},
   "cell_type": "markdown",
   "metadata": {},
   "source": [
    "## Hyperparameter Tuning \n",
    "\n",
    "RandomForestClassifier Tuning"
   ]
  },
  {
   "cell_type": "code",
   "execution_count": 10,
   "metadata": {},
   "outputs": [],
   "source": [
    "def objective_function(x, y, x_validation, y_validation, params):\n",
    "    model = RandomForestClassifier(\n",
    "        n_estimators=params['n_estimators'],\n",
    "        criterion='gini', \n",
    "        max_depth=params['max_depth'],\n",
    "        min_samples_split=params['min_samples_split'],\n",
    "        min_samples_leaf=params['min_samples_leaf'],\n",
    "        max_features='sqrt'\n",
    "    )\n",
    "\n",
    "    model.fit(x, y)\n",
    "\n",
    "    predictions = model.predict(x_validation)\n",
    "\n",
    "    return f1_score(predictions, y_validation, average='macro')"
   ]
  },
  {
   "cell_type": "code",
   "execution_count": 11,
   "metadata": {},
   "outputs": [
    {
     "name": "stdout",
     "output_type": "stream",
     "text": [
      "Loss: 0.8394607843137255\n",
      "Loss: 0.8813131313131313\n",
      "Loss: 0.9365079365079365\n",
      "Loss: 0.9365079365079365\n",
      "Loss: 0.9365079365079365\n",
      "Loss: 0.9365079365079365\n",
      "Loss: 0.9365079365079365\n",
      "Loss: 0.9365079365079365\n",
      "Loss: 0.9365079365079365\n",
      "Loss: 0.8813131313131313\n",
      "Loss: 0.9365079365079365\n",
      "Loss: 0.9365079365079365\n",
      "Loss: 0.9365079365079365\n",
      "Loss: 0.9365079365079365\n",
      "Loss: 0.9365079365079365\n",
      "Loss: 0.8813131313131313\n",
      "Loss: 0.9365079365079365\n",
      "Loss: 0.9365079365079365\n",
      "Loss: 0.9365079365079365\n",
      "Loss: 0.9365079365079365\n",
      "Best Loss: 0.8394607843137255\n",
      "Best Params: {'n_estimators': 5, 'max_depth': 40, 'min_samples_split': 1, 'min_samples_leaf': 1}\n"
     ]
    }
   ],
   "source": [
    "num_samples = 20\n",
    "best_params = None\n",
    "current_loss = 1000\n",
    "\n",
    "for i in range(num_samples):\n",
    "    params = {\n",
    "        'n_estimators' : random.randrange(5, 100, 5),\n",
    "        'max_depth' : random.randrange(10, 100, 10),\n",
    "        'min_samples_split' : random.randrange(1, 5, 1),\n",
    "        'min_samples_leaf' : random.randrange(1, 5, 1),\n",
    "    }\n",
    "\n",
    "    loss = objective_function(x_train, y_train, x_test.values, y_test.values, params)\n",
    "    print(\"Loss: {}\".format(loss))\n",
    "\n",
    "    if loss < current_loss:\n",
    "        best_params = params\n",
    "        current_loss = loss\n",
    "\n",
    "print(\"Best Loss: {}\".format(current_loss))\n",
    "print(\"Best Params: {}\".format(best_params))"
   ]
  },
  {
   "attachments": {},
   "cell_type": "markdown",
   "metadata": {},
   "source": [
    "## Saving the Model"
   ]
  },
  {
   "cell_type": "code",
   "execution_count": 12,
   "metadata": {},
   "outputs": [
    {
     "name": "stdout",
     "output_type": "stream",
     "text": [
      "              precision    recall  f1-score   support\n",
      "\n",
      "  Drug_DrugY       1.00      1.00      1.00        16\n",
      "  Drug_drugA       1.00      0.75      0.86         4\n",
      "  Drug_drugB       0.80      1.00      0.89         4\n",
      "  Drug_drugC       1.00      1.00      1.00         3\n",
      "\n",
      "    accuracy                           0.96        27\n",
      "   macro avg       0.95      0.94      0.94        27\n",
      "weighted avg       0.97      0.96      0.96        27\n",
      "\n",
      "0.9365079365079365\n"
     ]
    }
   ],
   "source": [
    "model = RandomForestClassifier(\n",
    "        n_estimators=params['n_estimators'],\n",
    "        criterion='gini', \n",
    "        max_depth=params['max_depth'],\n",
    "        min_samples_split=params['min_samples_split'],\n",
    "        min_samples_leaf=params['min_samples_leaf'],\n",
    "        max_features='sqrt',\n",
    "    )\n",
    "\n",
    "model.fit(x_train, y_train)\n",
    "\n",
    "predictions = model.predict(x_test.values)\n",
    "\n",
    "print(classification_report(predictions, y_test.values))\n",
    "print(f1_score(predictions, y_test.values, average='macro'))"
   ]
  },
  {
   "cell_type": "code",
   "execution_count": 13,
   "metadata": {},
   "outputs": [],
   "source": [
    "dump(model, '../models/rf_drugs.joblib')"
   ]
  }
 ],
 "metadata": {
  "kernelspec": {
   "display_name": "Python 3",
   "language": "python",
   "name": "python3"
  },
  "language_info": {
   "codemirror_mode": {
    "name": "ipython",
    "version": 3
   },
   "file_extension": ".py",
   "mimetype": "text/x-python",
   "name": "python",
   "nbconvert_exporter": "python",
   "pygments_lexer": "ipython3",
   "version": "3.9.12 (tags/v3.9.12:b28265d, Mar 23 2022, 23:52:46) [MSC v.1929 64 bit (AMD64)]"
  },
  "orig_nbformat": 4,
  "vscode": {
   "interpreter": {
    "hash": "70f9019b7ea4305493975d3f8c57c4982a33c13e123e9c3379d7ec4fac4fcd77"
   }
  }
 },
 "nbformat": 4,
 "nbformat_minor": 2
}
