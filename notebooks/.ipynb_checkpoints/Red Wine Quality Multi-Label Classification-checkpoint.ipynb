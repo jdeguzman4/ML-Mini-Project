{
 "cells": [
  {
   "cell_type": "code",
   "execution_count": 3,
   "id": "3ae23f11",
   "metadata": {},
   "outputs": [
    {
     "name": "stdout",
     "output_type": "stream",
     "text": [
      "../.git\n",
      "../datasets\n",
      "../ML-Mini-Project\n",
      "../notebooks\n",
      "../.git\\hooks\n",
      "../.git\\info\n",
      "../.git\\logs\n",
      "../.git\\objects\n",
      "../.git\\refs\n",
      "../.git\\logs\\refs\n",
      "../.git\\logs\\refs\\heads\n",
      "../.git\\logs\\refs\\remotes\n",
      "../.git\\logs\\refs\\remotes\\origin\n",
      "../.git\\objects\\0f\n",
      "../.git\\objects\\20\n",
      "../.git\\objects\\48\n",
      "../.git\\objects\\da\n",
      "../.git\\objects\\e6\n",
      "../.git\\objects\\info\n",
      "../.git\\objects\\pack\n",
      "../.git\\refs\\heads\n",
      "../.git\\refs\\remotes\n",
      "../.git\\refs\\tags\n",
      "../.git\\refs\\remotes\\origin\n",
      "../notebooks\\.ipynb_checkpoints\n"
     ]
    }
   ],
   "source": [
    "import pandas as pd\n",
    "import numpy as np\n",
    "import os\n",
    "from sklearn.metrics import classification_report\n",
    "from sklearn.metrics import multilabel_confusion_matrix\n",
    "from sklearn.model_selection import train_test_split\n",
    "\n",
    "for dirname, subfolders, files in os.walk(\"../\"):\n",
    "    subf = os.path.join(dirname, \"datasets\")\n",
    "    "
   ]
  },
  {
   "cell_type": "code",
   "execution_count": null,
   "id": "8617195f",
   "metadata": {},
   "outputs": [],
   "source": []
  }
 ],
 "metadata": {
  "kernelspec": {
   "display_name": "Python 3 (ipykernel)",
   "language": "python",
   "name": "python3"
  },
  "language_info": {
   "codemirror_mode": {
    "name": "ipython",
    "version": 3
   },
   "file_extension": ".py",
   "mimetype": "text/x-python",
   "name": "python",
   "nbconvert_exporter": "python",
   "pygments_lexer": "ipython3",
   "version": "3.10.7"
  }
 },
 "nbformat": 4,
 "nbformat_minor": 5
}
